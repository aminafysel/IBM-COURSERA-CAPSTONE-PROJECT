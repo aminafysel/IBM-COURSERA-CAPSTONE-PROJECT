{
  "nbformat": 4,
  "nbformat_minor": 0,
  "metadata": {
    "colab": {
      "name": "Data analysis 2.ipynb",
      "provenance": [],
      "collapsed_sections": [],
      "include_colab_link": true
    },
    "kernelspec": {
      "name": "python3",
      "display_name": "Python 3"
    }
  },
  "cells": [
    {
      "cell_type": "markdown",
      "metadata": {
        "id": "view-in-github",
        "colab_type": "text"
      },
      "source": [
        "<a href=\"https://colab.research.google.com/github/aminafysel/IBM-COURSERA-CAPSTONE-PROJECT/blob/master/Data_analysis_2.ipynb\" target=\"_parent\"><img src=\"https://colab.research.google.com/assets/colab-badge.svg\" alt=\"Open In Colab\"/></a>"
      ]
    },
    {
      "cell_type": "code",
      "metadata": {
        "id": "aUkypaen03Xk",
        "colab_type": "code",
        "colab": {
          "base_uri": "https://localhost:8080/",
          "height": 1000
        },
        "outputId": "721059dd-263d-4558-8ad1-cdd9594e1840"
      },
      "source": [
        "import folium \n",
        "import requests\n",
        "import urllib.request\n",
        "import time\n",
        "from bs4 import BeautifulSoup\n",
        "import numpy as np\n",
        "import pandas as pd\n",
        "!pip install geopy\n",
        "!pip install geocoder\n",
        "!pip install geopandas\n",
        "from geopy.geocoders import Nominatim\n",
        "import geocoder\n",
        "import matplotlib.pyplot as plt\n",
        "import geopandas as gpd\n",
        "\n",
        "\n",
        "\n",
        "#DATA COLLECTION AND SOLUTIONING\n",
        "#Data Collection - Top  5 Districts with Psychosocial issues\n",
        "\n",
        "url = 'https://dashboard.kerala.gov.in/psycosocial.php'\n",
        "dfs = pd.read_html(url,header=0)\n",
        "dfs\n",
        "#Getting Type of Discomfort Data for each district\n",
        "TypeOfDiscomfortTable = pd.pivot_table(dfs[1], index=['District'])\n",
        "TypeOfDiscomfortTable.sort_values(by=['Anxiety'], inplace=True,ascending=False)\n",
        "TypeOfDiscomfortTable = TypeOfDiscomfortTable.reset_index()\n",
        "#Removing the row \"TOTAL\"\n",
        "TypeOfDiscomfortTable.drop([0], axis=0, inplace = True)\n",
        "index = TypeOfDiscomfortTable.Anxiety.argmax()\n",
        "#TypeOfDiscomfortTable.iloc[TypeOfDiscomfortTable.Anxiety.argmax(), 0:2]\n",
        "TypeOfDiscomfortTable.nlargest(5,'Anxiety')\n",
        "#Top Anxiety Districts\n",
        "DiscomfortTableAnxietyRank = TypeOfDiscomfortTable.nlargest(5,'Anxiety')\n",
        "DiscomfortTableAnxietyRankCopy = DiscomfortTableAnxietyRank\n",
        "DiscomfortTableAnxietyRank = DiscomfortTableAnxietyRank.drop(columns=['Stress','Anxiety','Any other Psychiatric Issues','Depression','Sleep Impairment','Social Needs','Stigma Issues'])\n",
        "DiscomfortTableAnxietyRank.insert(1, \"Points\", [25, 20, 15, 10,5], True) \n",
        "#Top Depression Districts\n",
        "DiscomfortTableDepressionRank = TypeOfDiscomfortTable.nlargest(5,'Depression')\n",
        "DiscomfortTableDepressionRankCopy = DiscomfortTableDepressionRank\n",
        "DiscomfortTableDepressionRank = DiscomfortTableDepressionRank.drop(columns=['Anxiety','Depression','Stress','Any other Psychiatric Issues','Sleep Impairment','Social Needs','Stigma Issues'])\n",
        "DiscomfortTableDepressionRank.insert(1, \"Points\", [25, 20, 15, 10,5], True) \n",
        "#Top Stress Districts\n",
        "DiscomfortTableStressRank = TypeOfDiscomfortTable.nlargest(5,'Stress')\n",
        "DiscomfortTableStressRankCopy = DiscomfortTableStressRank\n",
        "DiscomfortTableStressRank = DiscomfortTableStressRank.drop(columns=['Anxiety','Stress','Any other Psychiatric Issues','Depression','Sleep Impairment','Social Needs','Stigma Issues'])\n",
        "DiscomfortTableStressRank.insert(1, \"Points\", [25, 20, 15, 10,5], True) \n",
        "\n",
        "#Top Stress Districts\n",
        "DiscomfortTableSocialNeedsRank = TypeOfDiscomfortTable.nlargest(5,\"Social Needs\")\n",
        "DiscomfortTableSocialNeedsRankCopy = DiscomfortTableSocialNeedsRank\n",
        "DiscomfortTableSocialNeedsRank = DiscomfortTableSocialNeedsRank.drop(columns=['Anxiety','Stress','Any other Psychiatric Issues','Depression','Sleep Impairment','Social Needs','Stigma Issues'])\n",
        "DiscomfortTableSocialNeedsRank.insert(1, \"Points\", [25, 20, 15, 10,5], True) \n",
        "\n",
        "print (DiscomfortTableAnxietyRank)\n",
        "print (DiscomfortTableDepressionRank)\n",
        "print(DiscomfortTableStressRank)\n",
        "print(DiscomfortTableSocialNeedsRank)\n",
        "\n",
        "#Combining all tables\n",
        "frames = [DiscomfortTableAnxietyRank, DiscomfortTableDepressionRank, DiscomfortTableStressRank,DiscomfortTableSocialNeedsRank]\n",
        "PsychoSocialRank = pd.concat(frames)\n",
        "#To resolve Nan issues with concat\n",
        "PsychoSocialRankCopy = PsychoSocialRank\n",
        "#Grouping with district\n",
        "PsychoSocialRank = PsychoSocialRank.groupby(['District']).agg({'Points':sum})\n",
        "#Top 5 districts with PsychoSocial issues \n",
        "PsychoSocialRank = PsychoSocialRank.nlargest(5, 'Points')\n",
        "print(\"PsychoSocial Rank\")\n",
        "print(PsychoSocialRank)\n",
        "\n",
        "#Data Collection - Top  5 Districts with maximum Containment Zones\n",
        "url2 = 'https://dashboard.kerala.gov.in/hotspots.php'\n",
        "dfs1 = pd.read_html(url2,header=0)\n",
        "\n",
        "ContainmentZoneTable = dfs1[0].groupby(['District']).size().nlargest(5).reset_index(name='Count')\n",
        "ContainmentZoneTable.loc[ContainmentZoneTable.District == 'Kannur', 'District'] = 'KNR' \n",
        "ContainmentZoneTable.loc[ContainmentZoneTable.District == 'Kasargode', 'District'] = 'KSD'    \n",
        "ContainmentZoneTable.loc[ContainmentZoneTable.District == 'Palakkad', 'District'] = 'PKD'\n",
        "ContainmentZoneTable.loc[ContainmentZoneTable.District == 'Ernakulam', 'District'] = 'EKM'\n",
        "ContainmentZoneTable.loc[ContainmentZoneTable.District == 'Alappuzha', 'District'] = 'ALPY'\n",
        "ContainmentZoneTable.loc[ContainmentZoneTable.District == 'Kollam', 'District'] = 'KLM'\n",
        "ContainmentZoneTable.insert(1, \"Points\", [25, 20, 15, 10,5], True) \n",
        "ContainmentZoneTable = ContainmentZoneTable.drop(columns=['Count'])\n",
        "#ContainmentZoneTable = ContainmentZoneTable.drop(ContainmentZoneTable.columns[0], axis = 1) \n",
        "\n",
        "print(\"ContainmentZone Rank\")\n",
        "print (ContainmentZoneTable)\n",
        "\n",
        "#Data Collection - Top  5 Districts with maximum Hospitals \n",
        "url3 = 'https://www.hospitalskerala.com/trivandrum_hospitals/trivandrum_hospitals.html'\n",
        "dfs2 = pd.read_html(url3,header=0)\n",
        "frames2 = [dfs2[1], dfs2[2],dfs2[3],dfs2[4]]\n",
        "TVMHospitals = pd.concat(frames2)\n",
        "TvmHosCount =  (len(TVMHospitals.index))\n",
        "data = [['TVPM',TvmHosCount] ]\n",
        "  \n",
        "# Create the HospitalRank Table with TVM\n",
        "HospitalRank = pd.DataFrame(data, columns = ['District', 'Count']) \n",
        "\n",
        "#EKM\n",
        "url3 = 'https://www.hospitalskerala.com/ernakulam_hospitals/ernakulam_hospitals.html'\n",
        "dfs3 = pd.read_html(url3,header=0)\n",
        "frames3 = [dfs3[1],dfs3[2],dfs3[3],dfs3[4],dfs3[5]]\n",
        "EKMHospitals = pd.concat(frames3)\n",
        "EKMHosCount =  (len(EKMHospitals.index))\n",
        "Ekmdf = {'District': 'EKM', 'Count': EKMHosCount}\n",
        "HospitalRank = HospitalRank.append(Ekmdf, ignore_index=True)\n",
        "\n",
        "#KKD\n",
        "url3 = 'https://www.hospitalskerala.com/kozhikode_hospitals/calicut_hospitals.html'\n",
        "dfs3 = pd.read_html(url3,header=0)\n",
        "frames3 = [dfs3[1],dfs3[2],dfs3[3],dfs3[4],dfs3[5]]\n",
        "KKDHospitals = pd.concat(frames3)\n",
        "KKDHosCount =  (len(KKDHospitals.index))\n",
        "Kkddf = {'District': 'KKD', 'Count': KKDHosCount}\n",
        "HospitalRank = HospitalRank.append(Kkddf, ignore_index=True)\n",
        "HospitalRank\n",
        "#MLP\n",
        "url3 = 'https://www.hospitalskerala.com/malappuram_hospitals/malappuram_hospitals.html'\n",
        "dfs3 = pd.read_html(url3,header=0)\n",
        "frames3 = [dfs3[1],dfs3[2],dfs3[3],dfs3[4],dfs3[5]]\n",
        "MLPHospitals = pd.concat(frames3)\n",
        "MLPHosCount =  (len(MLPHospitals.index))\n",
        "Mlpdf = {'District': 'MLP', 'Count': MLPHosCount}\n",
        "HospitalRank = HospitalRank.append(Mlpdf, ignore_index=True)\n",
        "HospitalRank\n",
        "\n",
        "#TSR\n",
        "url3 = 'https://www.hospitalskerala.com/thrissur_hospitals/thrissur_hospitals.html'\n",
        "dfs3 = pd.read_html(url3,header=0)\n",
        "frames3 = [dfs3[1],dfs3[2],dfs3[3],dfs3[4],dfs3[5]]\n",
        "TSRHospitals = pd.concat(frames3)\n",
        "TSRHosCount =  (len(TSRHospitals.index))\n",
        "Tsrdf = {'District': 'TSR', 'Count': TSRHosCount}\n",
        "HospitalRank = HospitalRank.append(Tsrdf, ignore_index=True)\n",
        "\n",
        "#KLM\n",
        "url3 = 'https://www.hospitalskerala.com/kollam_hospitals/kollam_hospitals.html'\n",
        "dfs3 = pd.read_html(url3,header=0)\n",
        "frames3 = [dfs3[1],dfs3[2],dfs3[3],dfs3[4],dfs3[5]]\n",
        "KLMHospitals = pd.concat(frames3)\n",
        "KLMHosCount =  (len(KLMHospitals.index))\n",
        "Klmdf = {'District': 'KLM', 'Count': KLMHosCount}\n",
        "HospitalRank = HospitalRank.append(Klmdf, ignore_index=True)\n",
        "\n",
        "#Top 5 ditrsicts\n",
        "HospitalRank.insert(1, \"Points\", [25, 20, 15, 10,5,1], True) \n",
        "HospitalRank = HospitalRank.drop(columns=['Count'])\n",
        "HospitalRank = HospitalRank.nlargest(5, 'Points')\n",
        "print(\"HospitalRank Rank\")\n",
        "print (HospitalRank)\n",
        "\n",
        "#Merge all 3 tables to find the proposed Revie location !!! \n",
        "frames4 = [ContainmentZoneTable,HospitalRank,PsychoSocialRankCopy]\n",
        "ReviewKeralaLocation = pd.concat(frames4,ignore_index=True)\n",
        "ReviewKeralaLocation = ReviewKeralaLocation.groupby(['District']).agg({'Points':sum})\n",
        "#Top 5 districts \n",
        "ReviewKeralaLocation = ReviewKeralaLocation.nlargest(5, 'Points')\n",
        "print(\"Review Kerala Location Rank\")\n",
        "print(ReviewKeralaLocation)\n",
        "\n",
        "#VISUALIZATION\n",
        "\n",
        "#Visualize ReviewKeralaLocation districts in Map\n",
        "#Vislualize ContainmentZoneTable as Chart\n",
        "#Vislualize HospitalRank as plot \n",
        "# PsychoSocialRankCopy as piechart\n",
        "\n"
      ],
      "execution_count": null,
      "outputs": [
        {
          "output_type": "stream",
          "text": [
            "Requirement already satisfied: geopy in /usr/local/lib/python3.6/dist-packages (1.17.0)\n",
            "Requirement already satisfied: geographiclib<2,>=1.49 in /usr/local/lib/python3.6/dist-packages (from geopy) (1.50)\n",
            "Requirement already satisfied: geocoder in /usr/local/lib/python3.6/dist-packages (1.38.1)\n",
            "Requirement already satisfied: click in /usr/local/lib/python3.6/dist-packages (from geocoder) (7.1.2)\n",
            "Requirement already satisfied: six in /usr/local/lib/python3.6/dist-packages (from geocoder) (1.12.0)\n",
            "Requirement already satisfied: ratelim in /usr/local/lib/python3.6/dist-packages (from geocoder) (0.1.6)\n",
            "Requirement already satisfied: requests in /usr/local/lib/python3.6/dist-packages (from geocoder) (2.23.0)\n",
            "Requirement already satisfied: future in /usr/local/lib/python3.6/dist-packages (from geocoder) (0.16.0)\n",
            "Requirement already satisfied: decorator in /usr/local/lib/python3.6/dist-packages (from ratelim->geocoder) (4.4.2)\n",
            "Requirement already satisfied: idna<3,>=2.5 in /usr/local/lib/python3.6/dist-packages (from requests->geocoder) (2.9)\n",
            "Requirement already satisfied: certifi>=2017.4.17 in /usr/local/lib/python3.6/dist-packages (from requests->geocoder) (2020.6.20)\n",
            "Requirement already satisfied: chardet<4,>=3.0.2 in /usr/local/lib/python3.6/dist-packages (from requests->geocoder) (3.0.4)\n",
            "Requirement already satisfied: urllib3!=1.25.0,!=1.25.1,<1.26,>=1.21.1 in /usr/local/lib/python3.6/dist-packages (from requests->geocoder) (1.24.3)\n",
            "Requirement already satisfied: geopandas in /usr/local/lib/python3.6/dist-packages (0.8.0)\n",
            "Requirement already satisfied: pandas>=0.23.0 in /usr/local/lib/python3.6/dist-packages (from geopandas) (1.0.5)\n",
            "Requirement already satisfied: fiona in /usr/local/lib/python3.6/dist-packages (from geopandas) (1.8.13.post1)\n",
            "Requirement already satisfied: shapely in /usr/local/lib/python3.6/dist-packages (from geopandas) (1.7.0)\n",
            "Requirement already satisfied: pyproj>=2.2.0 in /usr/local/lib/python3.6/dist-packages (from geopandas) (2.6.1.post1)\n",
            "Requirement already satisfied: pytz>=2017.2 in /usr/local/lib/python3.6/dist-packages (from pandas>=0.23.0->geopandas) (2018.9)\n",
            "Requirement already satisfied: python-dateutil>=2.6.1 in /usr/local/lib/python3.6/dist-packages (from pandas>=0.23.0->geopandas) (2.8.1)\n",
            "Requirement already satisfied: numpy>=1.13.3 in /usr/local/lib/python3.6/dist-packages (from pandas>=0.23.0->geopandas) (1.18.5)\n",
            "Requirement already satisfied: munch in /usr/local/lib/python3.6/dist-packages (from fiona->geopandas) (2.5.0)\n",
            "Requirement already satisfied: cligj>=0.5 in /usr/local/lib/python3.6/dist-packages (from fiona->geopandas) (0.5.0)\n",
            "Requirement already satisfied: attrs>=17 in /usr/local/lib/python3.6/dist-packages (from fiona->geopandas) (19.3.0)\n",
            "Requirement already satisfied: six>=1.7 in /usr/local/lib/python3.6/dist-packages (from fiona->geopandas) (1.12.0)\n",
            "Requirement already satisfied: click<8,>=4.0 in /usr/local/lib/python3.6/dist-packages (from fiona->geopandas) (7.1.2)\n",
            "Requirement already satisfied: click-plugins>=1.0 in /usr/local/lib/python3.6/dist-packages (from fiona->geopandas) (1.1.1)\n",
            "  District  Points\n",
            "1      KKD      25\n",
            "2      MLP      20\n",
            "3      EKM      15\n",
            "4      KSD      10\n",
            "5      TSR       5\n",
            "   District  Points\n",
            "5       TSR      25\n",
            "1       KKD      20\n",
            "6      TVPM      15\n",
            "10      WYD      10\n",
            "2       MLP       5\n",
            "  District  Points\n",
            "3      EKM      25\n",
            "2      MLP      20\n",
            "9      PTA      15\n",
            "5      TSR      10\n",
            "8      KLM       5\n",
            "   District  Points\n",
            "8       KLM      25\n",
            "4       KSD      20\n",
            "10      WYD      15\n",
            "2       MLP      10\n",
            "12      PKD       5\n",
            "PsychoSocial Rank\n",
            "          Points\n",
            "District        \n",
            "MLP           55\n",
            "KKD           45\n",
            "EKM           40\n",
            "TSR           40\n",
            "KLM           30\n",
            "ContainmentZone Rank\n",
            "  District  Points\n",
            "0      KNR      25\n",
            "1      KSD      20\n",
            "2      EKM      15\n",
            "3     ALPY      10\n",
            "4      KLM       5\n",
            "HospitalRank Rank\n",
            "  District  Points\n",
            "0     TVPM      25\n",
            "1      EKM      20\n",
            "2      KKD      15\n",
            "3      MLP      10\n",
            "4      TSR       5\n",
            "Review Kerala Location Rank\n",
            "          Points\n",
            "District        \n",
            "EKM           75\n",
            "MLP           65\n",
            "KKD           60\n",
            "KSD           50\n",
            "TSR           45\n"
          ],
          "name": "stdout"
        }
      ]
    },
    {
      "cell_type": "code",
      "metadata": {
        "id": "q6tuuQ6K6S13",
        "colab_type": "code",
        "colab": {
          "base_uri": "https://localhost:8080/",
          "height": 295
        },
        "outputId": "11abc385-94b2-4d23-f44f-ef2934656681"
      },
      "source": [
        "# Anxiety\n",
        "fig=plt.figure()\n",
        "plt.bar(DiscomfortTableAnxietyRankCopy.District,DiscomfortTableAnxietyRankCopy.Anxiety)\n",
        "plt.xlabel('Top Districts')\n",
        "plt.ylabel('Anxiety cases ')\n",
        "plt.title('Highest Anxiety cases reported')\n",
        "plt.show()"
      ],
      "execution_count": null,
      "outputs": [
        {
          "output_type": "display_data",
          "data": {
            "image/png": "[encoded data removed]",
            "text/plain": [
              "<Figure size 432x288 with 1 Axes>"
            ]
          },
          "metadata": {
            "tags": [],
            "needs_background": "light"
          }
        }
      ]
    },
    {
      "cell_type": "code",
      "metadata": {
        "id": "rUaqG4dn1oBG",
        "colab_type": "code",
        "colab": {
          "base_uri": "https://localhost:8080/",
          "height": 295
        },
        "outputId": "8a889f0d-a667-4654-db6b-3cf68099c70f"
      },
      "source": [
        "# Social Needs\n",
        "fig=plt.figure()\n",
        "plt.bar(DiscomfortTableSocialNeedsRankCopy.District,DiscomfortTableSocialNeedsRankCopy.Stress)\n",
        "plt.xlabel('Top Districts')\n",
        "plt.ylabel('Social Needs cases ')\n",
        "plt.title('Highest Social need cases reported')\n",
        "plt.show()"
      ],
      "execution_count": null,
      "outputs": [
        {
          "output_type": "display_data",
          "data": {
            "image/png": "[encoded data removed]",
            "text/plain": [
              "<Figure size 432x288 with 1 Axes>"
            ]
          },
          "metadata": {
            "tags": [],
            "needs_background": "light"
          }
        }
      ]
    },
    {
      "cell_type": "code",
      "metadata": {
        "id": "avWbKkPw9mys",
        "colab_type": "code",
        "colab": {
          "base_uri": "https://localhost:8080/",
          "height": 295
        },
        "outputId": "09b3c4e1-01b0-4831-9dc1-16ba00d3874c"
      },
      "source": [
        "# Stress \n",
        "#print (DiscomfortTableAnxietyRank)\n",
        "#print (DiscomfortTableDepressionRank)\n",
        "#print(DiscomfortTableStressRank)\n",
        "#print(DiscomfortTableSocialNeedsRank)\n",
        "fig=plt.figure()\n",
        "plt.bar(DiscomfortTableStressRankCopy.District,DiscomfortTableStressRankCopy.Stress)\n",
        "plt.xlabel('Top Districts')\n",
        "plt.ylabel('Stress cases ')\n",
        "plt.title('Highest Stress cases reported')\n",
        "plt.show()"
      ],
      "execution_count": null,
      "outputs": [
        {
          "output_type": "display_data",
          "data": {
            "image/png": "[encoded data removed]",
            "text/plain": [
              "<Figure size 432x288 with 1 Axes>"
            ]
          },
          "metadata": {
            "tags": [],
            "needs_background": "light"
          }
        }
      ]
    },
    {
      "cell_type": "code",
      "metadata": {
        "id": "oCMpPhWr-LiS",
        "colab_type": "code",
        "colab": {
          "base_uri": "https://localhost:8080/",
          "height": 295
        },
        "outputId": "788b0530-f79e-4846-ba88-684461bbea22"
      },
      "source": [
        "# Depression \n",
        "fig=plt.figure()\n",
        "plt.bar(DiscomfortTableDepressionRankCopy.District,DiscomfortTableDepressionRankCopy.Depression)\n",
        "plt.xlabel('Top Districts')\n",
        "plt.ylabel('Depression cases ')\n",
        "plt.title('Highest Depression cases reported')\n",
        "plt.show()"
      ],
      "execution_count": null,
      "outputs": [
        {
          "output_type": "display_data",
          "data": {
            "image/png": "[encoded data removed]",
            "text/plain": [
              "<Figure size 432x288 with 1 Axes>"
            ]
          },
          "metadata": {
            "tags": [],
            "needs_background": "light"
          }
        }
      ]
    },
    {
      "cell_type": "code",
      "metadata": {
        "id": "sNF6mlvqA1cX",
        "colab_type": "code",
        "colab": {
          "base_uri": "https://localhost:8080/",
          "height": 295
        },
        "outputId": "f44c80dd-2540-4f50-8f96-471b610aea33"
      },
      "source": [
        "#PsychoSocialRank\n",
        "fig=plt.figure()\n",
        "District=['MLP','KKD','EKM','TSR','KLM']\n",
        "Values=[55,45,40,40,30]\n",
        "plt.bar(District,Values,color = 'r')\n",
        "plt.xlabel('Top Districts')\n",
        "plt.ylabel('Points from All Discomfort cattegory ')\n",
        "plt.title('Highest PsychoSocial Support Need')\n",
        "plt.show()"
      ],
      "execution_count": null,
      "outputs": [
        {
          "output_type": "display_data",
          "data": {
            "image/png": "[encoded data removed]",
            "text/plain": [
              "<Figure size 432x288 with 1 Axes>"
            ]
          },
          "metadata": {
            "tags": [],
            "needs_background": "light"
          }
        }
      ]
    },
    {
      "cell_type": "code",
      "metadata": {
        "id": "wjGhr6Gzip4I",
        "colab_type": "code",
        "colab": {
          "base_uri": "https://localhost:8080/",
          "height": 295
        },
        "outputId": "d1a4669b-f0a3-4f6a-f5eb-721e2c322cc9"
      },
      "source": [
        "# containment zone table\n",
        "fig=plt.figure()\n",
        "\n",
        "\n",
        "barlist = plt.bar(ContainmentZoneTable.District,ContainmentZoneTable.Points,color='y')\n",
        "\n",
        "plt.xlabel('Top Districts')\n",
        "plt.ylabel('Containment zones Score')\n",
        "plt.title('Highest Containment Zones')\n",
        "plt.show()"
      ],
      "execution_count": null,
      "outputs": [
        {
          "output_type": "display_data",
          "data": {
            "image/png": "[encoded data removed]",
            "text/plain": [
              "<Figure size 432x288 with 1 Axes>"
            ]
          },
          "metadata": {
            "tags": [],
            "needs_background": "light"
          }
        }
      ]
    },
    {
      "cell_type": "code",
      "metadata": {
        "id": "qFi4GcmZJQ8X",
        "colab_type": "code",
        "colab": {
          "base_uri": "https://localhost:8080/",
          "height": 295
        },
        "outputId": "fdd2e598-5a3a-4638-f697-b5055a2d8788"
      },
      "source": [
        "fig=plt.figure()\n",
        "\n",
        "\n",
        "barlist = plt.bar(HospitalRank.District,HospitalRank.Points,color='b')\n",
        "\n",
        "plt.xlabel('Top Districts')\n",
        "plt.ylabel('Hospitals score')\n",
        "plt.title('Highest Number of Hospitals')\n",
        "plt.show()"
      ],
      "execution_count": null,
      "outputs": [
        {
          "output_type": "display_data",
          "data": {
            "image/png": "[encoded data removed]",
            "text/plain": [
              "<Figure size 432x288 with 1 Axes>"
            ]
          },
          "metadata": {
            "tags": [],
            "needs_background": "light"
          }
        }
      ]
    },
    {
      "cell_type": "code",
      "metadata": {
        "id": "AziA6gdUJ_ht",
        "colab_type": "code",
        "colab": {
          "base_uri": "https://localhost:8080/",
          "height": 417
        },
        "outputId": "b9b572f0-acb2-4a1a-e297-604efb78309a"
      },
      "source": [
        "fig=plt.figure()\n",
        "\n",
        "District=['EKM','MLP','KKD','KSD','TSR']\n",
        "Values=[75,65,60,50,43]\n",
        "plt.bar(District,Values,color = 'g')\n",
        "print(ReviewKeralaLocation)\n",
        "\n",
        "#barlist = plt.bar(ReviewKeralaLocation.District,ReviewKeralaLocation.Points,color='g')\n",
        "\n",
        "plt.xlabel('Districts')\n",
        "plt.ylabel('Location Scores')\n",
        "plt.title('Covid ReHab Locations !!!')\n",
        "plt.show()"
      ],
      "execution_count": null,
      "outputs": [
        {
          "output_type": "stream",
          "text": [
            "          Points\n",
            "District        \n",
            "EKM           75\n",
            "MLP           65\n",
            "KKD           60\n",
            "KSD           50\n",
            "TSR           45\n"
          ],
          "name": "stdout"
        },
        {
          "output_type": "display_data",
          "data": {
            "image/png": "[encoded data removed]",
            "text/plain": [
              "<Figure size 432x288 with 1 Axes>"
            ]
          },
          "metadata": {
            "tags": [],
            "needs_background": "light"
          }
        }
      ]
    },
    {
      "cell_type": "code",
      "metadata": {
        "id": "6qfjS8fWySzb",
        "colab_type": "code",
        "colab": {
          "base_uri": "https://localhost:8080/",
          "height": 281
        },
        "outputId": "0e3e087e-7725-48f6-d7e7-d7406b59621f"
      },
      "source": [
        "#Hospital rank table\n",
        "#District=['TVM','EKM','KKD','MLP','TSR']\n",
        "#Values=[25,20,15,10,5]\n",
        "#plt.plot(District,Values,marker='+')\n",
        "plt.plot(HospitalRank.District,HospitalRank.Points,marker = '+')\n",
        "plt.title('Hospital zones rank table')\n",
        "plt.show()\n"
      ],
      "execution_count": null,
      "outputs": [
        {
          "output_type": "display_data",
          "data": {
            "image/png": "[encoded data removed]",
            "text/plain": [
              "<Figure size 432x288 with 1 Axes>"
            ]
          },
          "metadata": {
            "tags": [],
            "needs_background": "light"
          }
        }
      ]
    },
    {
      "cell_type": "code",
      "metadata": {
        "id": "UUlzQX8U2wAk",
        "colab_type": "code",
        "colab": {}
      },
      "source": [
        ""
      ],
      "execution_count": null,
      "outputs": []
    },
    {
      "cell_type": "code",
      "metadata": {
        "id": "1aPusi6hxCVy",
        "colab_type": "code",
        "colab": {}
      },
      "source": [
        ""
      ],
      "execution_count": null,
      "outputs": []
    }
  ]
}